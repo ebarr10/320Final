{
 "cells": [
  {
   "source": [
    "# <ins>Analysis on the Potential of Life on Exoplanets</ins>\n",
    "\n",
    "## By: Ethan Barr and Tim Freerksen"
   ],
   "cell_type": "markdown",
   "metadata": {}
  },
  {
   "source": [
    "## <ins>Introduction</ins>\n",
    "\n",
    "Is there life in space? This has been a question for many years with no real evidence to back up the claim that there is. Our goal in this project is to take the exoplanets already discovered and see what the probability of life on these planets real is and hope that a good amount of the exoplanets that we discovered so far fit well into the criteria of haveing the ability to hold life.\n",
    "\n",
    "Throughout this tutorial, we will try to see how many of the exoplanets we have discovered so far the right conditions in order to harbor life and then we will see what the probability is that a future exoplanet will end up holding life."
   ],
   "cell_type": "markdown",
   "metadata": {}
  },
  {
   "source": [
    "### <ins>Required Tools</ins>\n",
    "\n",
    "The following libraries used for the project:\n",
    "\n",
    "    1. pandas\n",
    "    2. regex\n",
    "\n",
    "If having issues with python 3+ or panda, we recommend referring to these following websites for more information:\n",
    "\n",
    "    1. https://docs.python.org/3/\n",
    "    2. https://pandas.pydata.org/pandas-docs/stable/install.html"
   ],
   "cell_type": "markdown",
   "metadata": {}
  },
  {
   "source": [
    "### <ins>1. Data Collection</ins>\n",
    "\n",
    "This is the first part of the data life cycle. In this part we will go through various websites to try and find data that both matches our topic at hand as well as gives enough information so that we can perform an analysis later on. \n",
    "\n",
    "For an Exoplanet Database we found that https://exoplanetarchive.ipac.caltech.edu/cgi-bin/TblView/nph-tblView?app=ExoTbls&config=PS gave the best and most information from 1989 - 2020. In order to retrieve this data we first converted the online database into a csv file in which we could then read and manipulate.\n",
    "\n",
    "The following tools were used for the data collection:\n",
    "\n",
    "    1. panda"
   ],
   "cell_type": "markdown",
   "metadata": {}
  },
  {
   "cell_type": "code",
   "execution_count": 42,
   "metadata": {},
   "outputs": [],
   "source": [
    "import pandas as pd # used in order to read the csv file and convert it successfully into a datafram\n",
    "import re           # used to easily gather columns of similar aspects"
   ]
  },
  {
   "source": [
    "Since the exoplanetarchive website was nice enough to allow the downloading of the database into a csv file, there was not a lot of steps to fully access the entire database. It was sufficient to first download the database in a csv format and then add it as one of the files with this project. We could then easily access this file by performing a pandas read_csv which allowed for the entire csv file to be converted into a flexibile and readable DataFrame that we could use.\n",
    "\n",
    "A <ins>DataFrame</ins> is a table that has rows and columns that correlate to certain pieces of data. Using DataFrames allows for better use of more pandas functions which help to manipulate this data much more flexibily. If interested in learning more about DataFrames then check out the pandas documentation of it at https://pandas.pydata.org/pandas-docs/stable/reference/api/pandas.DataFrame.html\n",
    "\n",
    "The only issue that the csv had when we first read it was that the data provided had its only numbering associated with each row. To combact this we decided to stick with how the original data numbered itself and assigned that row to be the row number titled, loc_rowid.\n",
    "\n"
   ],
   "cell_type": "markdown",
   "metadata": {}
  },
  {
   "cell_type": "code",
   "execution_count": 43,
   "metadata": {},
   "outputs": [
    {
     "output_type": "execute_result",
     "data": {
      "text/plain": [
       "            pl_name hostname  default_flag  sy_snum  sy_pnum  discoverymethod  \\\n",
       "loc_rowid                                                                       \n",
       "1          11 Com b   11 Com             0        2        1  Radial Velocity   \n",
       "2          11 Com b   11 Com             1        2        1  Radial Velocity   \n",
       "3          11 UMi b   11 UMi             0        1        1  Radial Velocity   \n",
       "4          11 UMi b   11 UMi             0        1        1  Radial Velocity   \n",
       "5          11 UMi b   11 UMi             1        1        1  Radial Velocity   \n",
       "\n",
       "           disc_year                           disc_facility  \\\n",
       "loc_rowid                                                      \n",
       "1               2007                        Xinglong Station   \n",
       "2               2007                        Xinglong Station   \n",
       "3               2009  Thueringer Landessternwarte Tautenburg   \n",
       "4               2009  Thueringer Landessternwarte Tautenburg   \n",
       "5               2009  Thueringer Landessternwarte Tautenburg   \n",
       "\n",
       "                       soltype  pl_controv_flag  ... sy_vmagerr2  sy_kmag  \\\n",
       "loc_rowid                                        ...                        \n",
       "1          Published Confirmed                0  ...      -0.023    2.282   \n",
       "2          Published Confirmed                0  ...      -0.023    2.282   \n",
       "3          Published Confirmed                0  ...      -0.005    1.939   \n",
       "4          Published Confirmed                0  ...      -0.005    1.939   \n",
       "5          Published Confirmed                0  ...      -0.005    1.939   \n",
       "\n",
       "           sy_kmagerr1  sy_kmagerr2  sy_gaiamag  sy_gaiamagerr1  \\\n",
       "loc_rowid                                                         \n",
       "1                0.346       -0.346     4.44038        0.003848   \n",
       "2                0.346       -0.346     4.44038        0.003848   \n",
       "3                0.270       -0.270     4.56216        0.003903   \n",
       "4                0.270       -0.270     4.56216        0.003903   \n",
       "5                0.270       -0.270     4.56216        0.003903   \n",
       "\n",
       "           sy_gaiamagerr2            rowupdate  pl_pubdate  releasedate  \n",
       "loc_rowid                                                                \n",
       "1               -0.003848           2014-07-23     2011-08   2014-07-23  \n",
       "2               -0.003848           2014-05-14     2008-01   2014-05-14  \n",
       "3               -0.003903  2018-04-25 14:08:01     2009-10   2014-05-14  \n",
       "4               -0.003903  2018-04-25 14:08:01     2011-08   2014-07-23  \n",
       "5               -0.003903  2018-09-04 16:14:36     2017-03   2018-09-06  \n",
       "\n",
       "[5 rows x 91 columns]"
      ],
      "text/html": "<div>\n<style scoped>\n    .dataframe tbody tr th:only-of-type {\n        vertical-align: middle;\n    }\n\n    .dataframe tbody tr th {\n        vertical-align: top;\n    }\n\n    .dataframe thead th {\n        text-align: right;\n    }\n</style>\n<table border=\"1\" class=\"dataframe\">\n  <thead>\n    <tr style=\"text-align: right;\">\n      <th></th>\n      <th>pl_name</th>\n      <th>hostname</th>\n      <th>default_flag</th>\n      <th>sy_snum</th>\n      <th>sy_pnum</th>\n      <th>discoverymethod</th>\n      <th>disc_year</th>\n      <th>disc_facility</th>\n      <th>soltype</th>\n      <th>pl_controv_flag</th>\n      <th>...</th>\n      <th>sy_vmagerr2</th>\n      <th>sy_kmag</th>\n      <th>sy_kmagerr1</th>\n      <th>sy_kmagerr2</th>\n      <th>sy_gaiamag</th>\n      <th>sy_gaiamagerr1</th>\n      <th>sy_gaiamagerr2</th>\n      <th>rowupdate</th>\n      <th>pl_pubdate</th>\n      <th>releasedate</th>\n    </tr>\n    <tr>\n      <th>loc_rowid</th>\n      <th></th>\n      <th></th>\n      <th></th>\n      <th></th>\n      <th></th>\n      <th></th>\n      <th></th>\n      <th></th>\n      <th></th>\n      <th></th>\n      <th></th>\n      <th></th>\n      <th></th>\n      <th></th>\n      <th></th>\n      <th></th>\n      <th></th>\n      <th></th>\n      <th></th>\n      <th></th>\n      <th></th>\n    </tr>\n  </thead>\n  <tbody>\n    <tr>\n      <th>1</th>\n      <td>11 Com b</td>\n      <td>11 Com</td>\n      <td>0</td>\n      <td>2</td>\n      <td>1</td>\n      <td>Radial Velocity</td>\n      <td>2007</td>\n      <td>Xinglong Station</td>\n      <td>Published Confirmed</td>\n      <td>0</td>\n      <td>...</td>\n      <td>-0.023</td>\n      <td>2.282</td>\n      <td>0.346</td>\n      <td>-0.346</td>\n      <td>4.44038</td>\n      <td>0.003848</td>\n      <td>-0.003848</td>\n      <td>2014-07-23</td>\n      <td>2011-08</td>\n      <td>2014-07-23</td>\n    </tr>\n    <tr>\n      <th>2</th>\n      <td>11 Com b</td>\n      <td>11 Com</td>\n      <td>1</td>\n      <td>2</td>\n      <td>1</td>\n      <td>Radial Velocity</td>\n      <td>2007</td>\n      <td>Xinglong Station</td>\n      <td>Published Confirmed</td>\n      <td>0</td>\n      <td>...</td>\n      <td>-0.023</td>\n      <td>2.282</td>\n      <td>0.346</td>\n      <td>-0.346</td>\n      <td>4.44038</td>\n      <td>0.003848</td>\n      <td>-0.003848</td>\n      <td>2014-05-14</td>\n      <td>2008-01</td>\n      <td>2014-05-14</td>\n    </tr>\n    <tr>\n      <th>3</th>\n      <td>11 UMi b</td>\n      <td>11 UMi</td>\n      <td>0</td>\n      <td>1</td>\n      <td>1</td>\n      <td>Radial Velocity</td>\n      <td>2009</td>\n      <td>Thueringer Landessternwarte Tautenburg</td>\n      <td>Published Confirmed</td>\n      <td>0</td>\n      <td>...</td>\n      <td>-0.005</td>\n      <td>1.939</td>\n      <td>0.270</td>\n      <td>-0.270</td>\n      <td>4.56216</td>\n      <td>0.003903</td>\n      <td>-0.003903</td>\n      <td>2018-04-25 14:08:01</td>\n      <td>2009-10</td>\n      <td>2014-05-14</td>\n    </tr>\n    <tr>\n      <th>4</th>\n      <td>11 UMi b</td>\n      <td>11 UMi</td>\n      <td>0</td>\n      <td>1</td>\n      <td>1</td>\n      <td>Radial Velocity</td>\n      <td>2009</td>\n      <td>Thueringer Landessternwarte Tautenburg</td>\n      <td>Published Confirmed</td>\n      <td>0</td>\n      <td>...</td>\n      <td>-0.005</td>\n      <td>1.939</td>\n      <td>0.270</td>\n      <td>-0.270</td>\n      <td>4.56216</td>\n      <td>0.003903</td>\n      <td>-0.003903</td>\n      <td>2018-04-25 14:08:01</td>\n      <td>2011-08</td>\n      <td>2014-07-23</td>\n    </tr>\n    <tr>\n      <th>5</th>\n      <td>11 UMi b</td>\n      <td>11 UMi</td>\n      <td>1</td>\n      <td>1</td>\n      <td>1</td>\n      <td>Radial Velocity</td>\n      <td>2009</td>\n      <td>Thueringer Landessternwarte Tautenburg</td>\n      <td>Published Confirmed</td>\n      <td>0</td>\n      <td>...</td>\n      <td>-0.005</td>\n      <td>1.939</td>\n      <td>0.270</td>\n      <td>-0.270</td>\n      <td>4.56216</td>\n      <td>0.003903</td>\n      <td>-0.003903</td>\n      <td>2018-09-04 16:14:36</td>\n      <td>2017-03</td>\n      <td>2018-09-06</td>\n    </tr>\n  </tbody>\n</table>\n<p>5 rows × 91 columns</p>\n</div>"
     },
     "metadata": {},
     "execution_count": 43
    }
   ],
   "source": [
    "data = pd.read_csv('PS.csv')\n",
    "data.set_index('loc_rowid', inplace=True)\n",
    "data.head()"
   ]
  },
  {
   "source": [
    "### <ins>2. Data Processing</ins>\n",
    "\n",
    "After you successfully retrieve the data that you are looking for and have it in some sort of dataframe so that you can manipulate it then you move onto this next step. Within this step we want to try and tidy up the data that we just read in. This is an important step because of the fact that it will allow the data to be read and understood with much more fluidity. In our case we would be altering the structure of the DataFrame through the process of tidying data and / or data wrangling.\n",
    "\n",
    "You can learn more about:\n",
    "\n",
    "    1. tidying data: https://cran.r-project.org/web/packages/tidyr/vignettes/tidy-data.html\n",
    "    2. data wrangling: https://www.elderresearch.com/blog/what-is-data-wrangling-and-why-does-it-take-so-long/#:~:text=Data%20wrangling%20is%20the%20process,20%25%20for%20exploration%20and%20modeling.\n",
    "\n",
    "We will now go through the steps of tiding up our DataFrame so that any extra columns are discarded since we will not need them to perform our analysis. We also want to add a few columns to the DataFrame so that when we perform some calculations we can easily convert the column values out of their comparison units (example: 10 Earth Masses, which is just saying that the planet is 10 time the size of Earth). Another issue that we have with this DataFrame is that the names, due to there being many columns, may not be very intuitive, so in order to be able to understand the column values quicker without a cheat sheet of what each column represents we want to change the column names.\n",
    "\n",
    "Due to space being such a hard thing to measure as we can't just take out a ruler and measure it that way, astronomers typically write down what they believe a value is and then the upper and lower limits of what that value could be. We will be just taking into account what they believe the specific value to be and ignore the upper and lower limits in order to help calculate certian aspects of the exoplanets and host stars much easier.\n",
    "\n",
    "The following tools were used for Data Processing:\n",
    "\n",
    "    1. regex"
   ],
   "cell_type": "markdown",
   "metadata": {}
  },
  {
   "cell_type": "code",
   "execution_count": 44,
   "metadata": {
    "tags": []
   },
   "outputs": [
    {
     "output_type": "execute_result",
     "data": {
      "text/plain": [
       "            pl_name hostname  sy_snum  sy_pnum  disc_year  pl_orbper  \\\n",
       "loc_rowid                                                              \n",
       "1          11 Com b   11 Com        2        1       2007        NaN   \n",
       "2          11 Com b   11 Com        2        1       2007  326.03000   \n",
       "3          11 UMi b   11 UMi        1        1       2009  516.22000   \n",
       "4          11 UMi b   11 UMi        1        1       2009        NaN   \n",
       "5          11 UMi b   11 UMi        1        1       2009  516.21997   \n",
       "\n",
       "           pl_orbsmax  pl_rade  pl_radj  pl_bmasse  pl_bmassj pl_bmassprov  \\\n",
       "loc_rowid                                                                    \n",
       "1                1.21      NaN      NaN  5434.7000      17.10        Msini   \n",
       "2                1.29      NaN      NaN  6165.6000      19.40        Msini   \n",
       "3                1.54      NaN      NaN  3337.0700      10.50        Msini   \n",
       "4                1.51      NaN      NaN  3432.4000      10.80        Msini   \n",
       "5                1.53      NaN      NaN  4684.8142      14.74        Msini   \n",
       "\n",
       "           pl_eqt  st_teff  st_rad  st_mass  st_met st_metratio  st_logg  \\\n",
       "loc_rowid                                                                  \n",
       "1             NaN      NaN     NaN     2.60     NaN         NaN      NaN   \n",
       "2             NaN   4742.0   19.00     2.70   -0.35      [Fe/H]     2.31   \n",
       "3             NaN   4340.0   24.08     1.80    0.04      [Fe/H]     1.60   \n",
       "4             NaN      NaN     NaN     1.70     NaN         NaN      NaN   \n",
       "5             NaN   4213.0   29.79     2.78   -0.02      [Fe/H]     1.93   \n",
       "\n",
       "            sy_dist  \n",
       "loc_rowid            \n",
       "1           93.1846  \n",
       "2           93.1846  \n",
       "3          125.3210  \n",
       "4          125.3210  \n",
       "5          125.3210  "
      ],
      "text/html": "<div>\n<style scoped>\n    .dataframe tbody tr th:only-of-type {\n        vertical-align: middle;\n    }\n\n    .dataframe tbody tr th {\n        vertical-align: top;\n    }\n\n    .dataframe thead th {\n        text-align: right;\n    }\n</style>\n<table border=\"1\" class=\"dataframe\">\n  <thead>\n    <tr style=\"text-align: right;\">\n      <th></th>\n      <th>pl_name</th>\n      <th>hostname</th>\n      <th>sy_snum</th>\n      <th>sy_pnum</th>\n      <th>disc_year</th>\n      <th>pl_orbper</th>\n      <th>pl_orbsmax</th>\n      <th>pl_rade</th>\n      <th>pl_radj</th>\n      <th>pl_bmasse</th>\n      <th>pl_bmassj</th>\n      <th>pl_bmassprov</th>\n      <th>pl_eqt</th>\n      <th>st_teff</th>\n      <th>st_rad</th>\n      <th>st_mass</th>\n      <th>st_met</th>\n      <th>st_metratio</th>\n      <th>st_logg</th>\n      <th>sy_dist</th>\n    </tr>\n    <tr>\n      <th>loc_rowid</th>\n      <th></th>\n      <th></th>\n      <th></th>\n      <th></th>\n      <th></th>\n      <th></th>\n      <th></th>\n      <th></th>\n      <th></th>\n      <th></th>\n      <th></th>\n      <th></th>\n      <th></th>\n      <th></th>\n      <th></th>\n      <th></th>\n      <th></th>\n      <th></th>\n      <th></th>\n      <th></th>\n    </tr>\n  </thead>\n  <tbody>\n    <tr>\n      <th>1</th>\n      <td>11 Com b</td>\n      <td>11 Com</td>\n      <td>2</td>\n      <td>1</td>\n      <td>2007</td>\n      <td>NaN</td>\n      <td>1.21</td>\n      <td>NaN</td>\n      <td>NaN</td>\n      <td>5434.7000</td>\n      <td>17.10</td>\n      <td>Msini</td>\n      <td>NaN</td>\n      <td>NaN</td>\n      <td>NaN</td>\n      <td>2.60</td>\n      <td>NaN</td>\n      <td>NaN</td>\n      <td>NaN</td>\n      <td>93.1846</td>\n    </tr>\n    <tr>\n      <th>2</th>\n      <td>11 Com b</td>\n      <td>11 Com</td>\n      <td>2</td>\n      <td>1</td>\n      <td>2007</td>\n      <td>326.03000</td>\n      <td>1.29</td>\n      <td>NaN</td>\n      <td>NaN</td>\n      <td>6165.6000</td>\n      <td>19.40</td>\n      <td>Msini</td>\n      <td>NaN</td>\n      <td>4742.0</td>\n      <td>19.00</td>\n      <td>2.70</td>\n      <td>-0.35</td>\n      <td>[Fe/H]</td>\n      <td>2.31</td>\n      <td>93.1846</td>\n    </tr>\n    <tr>\n      <th>3</th>\n      <td>11 UMi b</td>\n      <td>11 UMi</td>\n      <td>1</td>\n      <td>1</td>\n      <td>2009</td>\n      <td>516.22000</td>\n      <td>1.54</td>\n      <td>NaN</td>\n      <td>NaN</td>\n      <td>3337.0700</td>\n      <td>10.50</td>\n      <td>Msini</td>\n      <td>NaN</td>\n      <td>4340.0</td>\n      <td>24.08</td>\n      <td>1.80</td>\n      <td>0.04</td>\n      <td>[Fe/H]</td>\n      <td>1.60</td>\n      <td>125.3210</td>\n    </tr>\n    <tr>\n      <th>4</th>\n      <td>11 UMi b</td>\n      <td>11 UMi</td>\n      <td>1</td>\n      <td>1</td>\n      <td>2009</td>\n      <td>NaN</td>\n      <td>1.51</td>\n      <td>NaN</td>\n      <td>NaN</td>\n      <td>3432.4000</td>\n      <td>10.80</td>\n      <td>Msini</td>\n      <td>NaN</td>\n      <td>NaN</td>\n      <td>NaN</td>\n      <td>1.70</td>\n      <td>NaN</td>\n      <td>NaN</td>\n      <td>NaN</td>\n      <td>125.3210</td>\n    </tr>\n    <tr>\n      <th>5</th>\n      <td>11 UMi b</td>\n      <td>11 UMi</td>\n      <td>1</td>\n      <td>1</td>\n      <td>2009</td>\n      <td>516.21997</td>\n      <td>1.53</td>\n      <td>NaN</td>\n      <td>NaN</td>\n      <td>4684.8142</td>\n      <td>14.74</td>\n      <td>Msini</td>\n      <td>NaN</td>\n      <td>4213.0</td>\n      <td>29.79</td>\n      <td>2.78</td>\n      <td>-0.02</td>\n      <td>[Fe/H]</td>\n      <td>1.93</td>\n      <td>125.3210</td>\n    </tr>\n  </tbody>\n</table>\n</div>"
     },
     "metadata": {},
     "execution_count": 44
    }
   ],
   "source": [
    "# This Loop is systematically removing the Upper and Lower limit values as well as the Limit Flags attactched to certain\n",
    "# values\n",
    "for columnName, columnData in data.iteritems():\n",
    "    if (re.search('[1|2]', columnName)):\n",
    "        data.drop(columnName, axis=1, inplace=True)\n",
    "    elif (re.search('lim', columnName)):\n",
    "        data.drop(columnName, axis=1, inplace=True)\n",
    "\n",
    "# Removing the columns that are not needed but were not captured by the previous for loop\n",
    "data.drop('default_flag', axis=1, inplace=True)\n",
    "data.drop('discoverymethod', axis=1, inplace=True)\n",
    "data.drop('disc_facility', axis=1, inplace=True)\n",
    "data.drop('soltype', axis=1, inplace=True)\n",
    "data.drop('pl_controv_flag', axis=1, inplace=True)\n",
    "data.drop('pl_refname', axis=1, inplace=True)\n",
    "data.drop('ttv_flag', axis=1, inplace=True)\n",
    "data.drop('rowupdate', axis=1, inplace=True)\n",
    "data.drop('pl_pubdate', axis=1, inplace=True)\n",
    "data.drop('releasedate', axis=1, inplace=True)\n",
    "data.drop('sy_refname', axis=1, inplace=True)\n",
    "data.drop('rastr', axis=1, inplace=True)\n",
    "data.drop('ra', axis=1, inplace=True)\n",
    "data.drop('decstr', axis=1, inplace=True)\n",
    "data.drop('dec', axis=1, inplace=True)\n",
    "data.drop('sy_gaiamag', axis=1, inplace=True)\n",
    "data.drop('sy_kmag', axis=1, inplace=True)\n",
    "data.drop('sy_vmag', axis=1, inplace=True)\n",
    "data.drop('st_refname', axis=1, inplace=True)\n",
    "data.drop('pl_orbeccen', axis=1, inplace=True)\n",
    "data.drop('pl_insol', axis=1, inplace=True)\n",
    "\n",
    "\n",
    "data.head()\n"
   ]
  },
  {
   "source": [
    "After removing the columns that aren't useful or won't be necessary for our calculations we can do the next step of tidying up our data. This would be to remove the rows that have missing data. Now we don't have to delete every row that is missing data because some columns can be interchangable. An example of an interchangable column is the radius and mass of the planet nut in the units of Earth Radius/Mass or Jupiter Radius/Mass which we can use either value in a formula since in the end we can just convert this value to any radius/mass units that we need. We also want to keep as many columns as we can so that we can get a better analysis."
   ],
   "cell_type": "markdown",
   "metadata": {}
  },
  {
   "cell_type": "code",
   "execution_count": 45,
   "metadata": {
    "tags": []
   },
   "outputs": [
    {
     "output_type": "execute_result",
     "data": {
      "text/plain": [
       "               pl_name   hostname  sy_snum  sy_pnum  disc_year  pl_orbper  \\\n",
       "loc_rowid                                                                   \n",
       "82            55 Cnc e     55 Cnc        2        5       2004   0.736539   \n",
       "83            55 Cnc e     55 Cnc        2        5       2004   0.736546   \n",
       "88            55 Cnc e     55 Cnc        2        5       2004   0.736544   \n",
       "120           AU Mic b     AU Mic        1        1       2020   8.463210   \n",
       "132        BD+20 594 b  BD+20 594        1        1       2016  41.685500   \n",
       "\n",
       "           pl_orbsmax  pl_rade  pl_radj  pl_bmasse  pl_bmassj pl_bmassprov  \\\n",
       "loc_rowid                                                                    \n",
       "82            0.01544    1.910    0.170     8.0800    0.02542         Mass   \n",
       "83            0.01583    2.173    0.194     8.3700    0.02600         Mass   \n",
       "88            0.01544    2.080    0.186     7.8100    0.02457         Mass   \n",
       "120           0.06600    4.203    0.375    57.2094    0.18000        Msini   \n",
       "132           0.24100    2.230    0.199    16.3000    0.05129         Mass   \n",
       "\n",
       "           pl_eqt  st_teff  st_rad  st_mass  st_met st_metratio  st_logg  \\\n",
       "loc_rowid                                                                  \n",
       "82            NaN   5250.0    0.96     0.90    0.35       [M/H]     4.42   \n",
       "83            NaN   5250.0    0.96     0.90    0.35       [M/H]     4.42   \n",
       "88         1958.0   5234.0    0.94     0.91    0.31      [Fe/H]     4.45   \n",
       "120           NaN   3700.0    0.75     0.50     NaN         NaN      NaN   \n",
       "132         546.0   5766.0    0.93     0.96   -0.15      [Fe/H]     4.50   \n",
       "\n",
       "            sy_dist  \n",
       "loc_rowid            \n",
       "82          12.5855  \n",
       "83          12.5855  \n",
       "88          12.5855  \n",
       "120          9.7221  \n",
       "132        179.4610  "
      ],
      "text/html": "<div>\n<style scoped>\n    .dataframe tbody tr th:only-of-type {\n        vertical-align: middle;\n    }\n\n    .dataframe tbody tr th {\n        vertical-align: top;\n    }\n\n    .dataframe thead th {\n        text-align: right;\n    }\n</style>\n<table border=\"1\" class=\"dataframe\">\n  <thead>\n    <tr style=\"text-align: right;\">\n      <th></th>\n      <th>pl_name</th>\n      <th>hostname</th>\n      <th>sy_snum</th>\n      <th>sy_pnum</th>\n      <th>disc_year</th>\n      <th>pl_orbper</th>\n      <th>pl_orbsmax</th>\n      <th>pl_rade</th>\n      <th>pl_radj</th>\n      <th>pl_bmasse</th>\n      <th>pl_bmassj</th>\n      <th>pl_bmassprov</th>\n      <th>pl_eqt</th>\n      <th>st_teff</th>\n      <th>st_rad</th>\n      <th>st_mass</th>\n      <th>st_met</th>\n      <th>st_metratio</th>\n      <th>st_logg</th>\n      <th>sy_dist</th>\n    </tr>\n    <tr>\n      <th>loc_rowid</th>\n      <th></th>\n      <th></th>\n      <th></th>\n      <th></th>\n      <th></th>\n      <th></th>\n      <th></th>\n      <th></th>\n      <th></th>\n      <th></th>\n      <th></th>\n      <th></th>\n      <th></th>\n      <th></th>\n      <th></th>\n      <th></th>\n      <th></th>\n      <th></th>\n      <th></th>\n      <th></th>\n    </tr>\n  </thead>\n  <tbody>\n    <tr>\n      <th>82</th>\n      <td>55 Cnc e</td>\n      <td>55 Cnc</td>\n      <td>2</td>\n      <td>5</td>\n      <td>2004</td>\n      <td>0.736539</td>\n      <td>0.01544</td>\n      <td>1.910</td>\n      <td>0.170</td>\n      <td>8.0800</td>\n      <td>0.02542</td>\n      <td>Mass</td>\n      <td>NaN</td>\n      <td>5250.0</td>\n      <td>0.96</td>\n      <td>0.90</td>\n      <td>0.35</td>\n      <td>[M/H]</td>\n      <td>4.42</td>\n      <td>12.5855</td>\n    </tr>\n    <tr>\n      <th>83</th>\n      <td>55 Cnc e</td>\n      <td>55 Cnc</td>\n      <td>2</td>\n      <td>5</td>\n      <td>2004</td>\n      <td>0.736546</td>\n      <td>0.01583</td>\n      <td>2.173</td>\n      <td>0.194</td>\n      <td>8.3700</td>\n      <td>0.02600</td>\n      <td>Mass</td>\n      <td>NaN</td>\n      <td>5250.0</td>\n      <td>0.96</td>\n      <td>0.90</td>\n      <td>0.35</td>\n      <td>[M/H]</td>\n      <td>4.42</td>\n      <td>12.5855</td>\n    </tr>\n    <tr>\n      <th>88</th>\n      <td>55 Cnc e</td>\n      <td>55 Cnc</td>\n      <td>2</td>\n      <td>5</td>\n      <td>2004</td>\n      <td>0.736544</td>\n      <td>0.01544</td>\n      <td>2.080</td>\n      <td>0.186</td>\n      <td>7.8100</td>\n      <td>0.02457</td>\n      <td>Mass</td>\n      <td>1958.0</td>\n      <td>5234.0</td>\n      <td>0.94</td>\n      <td>0.91</td>\n      <td>0.31</td>\n      <td>[Fe/H]</td>\n      <td>4.45</td>\n      <td>12.5855</td>\n    </tr>\n    <tr>\n      <th>120</th>\n      <td>AU Mic b</td>\n      <td>AU Mic</td>\n      <td>1</td>\n      <td>1</td>\n      <td>2020</td>\n      <td>8.463210</td>\n      <td>0.06600</td>\n      <td>4.203</td>\n      <td>0.375</td>\n      <td>57.2094</td>\n      <td>0.18000</td>\n      <td>Msini</td>\n      <td>NaN</td>\n      <td>3700.0</td>\n      <td>0.75</td>\n      <td>0.50</td>\n      <td>NaN</td>\n      <td>NaN</td>\n      <td>NaN</td>\n      <td>9.7221</td>\n    </tr>\n    <tr>\n      <th>132</th>\n      <td>BD+20 594 b</td>\n      <td>BD+20 594</td>\n      <td>1</td>\n      <td>1</td>\n      <td>2016</td>\n      <td>41.685500</td>\n      <td>0.24100</td>\n      <td>2.230</td>\n      <td>0.199</td>\n      <td>16.3000</td>\n      <td>0.05129</td>\n      <td>Mass</td>\n      <td>546.0</td>\n      <td>5766.0</td>\n      <td>0.93</td>\n      <td>0.96</td>\n      <td>-0.15</td>\n      <td>[Fe/H]</td>\n      <td>4.50</td>\n      <td>179.4610</td>\n    </tr>\n  </tbody>\n</table>\n</div>"
     },
     "metadata": {},
     "execution_count": 45
    }
   ],
   "source": [
    "for index, row in data.iterrows():\n",
    "    if (\n",
    "          ((str(data.at[index, 'pl_rade']) == 'nan') & (str(data.at[index, 'pl_radj']) == 'nan'))                   # This is checking to make sure that at least one of the values for radius was recorded for the planet\n",
    "        | ((str(data.at[index, 'pl_bmasse']) == 'nan') & (str(data.at[index, 'pl_bmassj']) == 'nan'))               # This is checking to make sure that at least one of the values for the mass of the planet was recorded\n",
    "        | (str(data.at[index, 'pl_orbper']) == 'nan')                                                               # This is making sure that the row had a recorded Orbital period, or how long it takes to get around their host star\n",
    "        | (str(data.at[index, 'pl_orbsmax']) == 'nan')                                                              # Making sure we know what the furthest distance from host star the planet is\n",
    "        | (str(data.at[index, 'st_teff']) == 'nan')                                                                 # This is making sure that we know what the Stellar Effective Temperature is for the host star\n",
    "        | (str(data.at[index, 'st_rad']) == 'nan')                                                                  # This is the recording for the host stars radius\n",
    "        | (str(data.at[index, 'st_mass']) == 'nan')                                                                 # This is the recorded mass for the hist star\n",
    "        | (str(data.at[index, 'disc_year']) == 'nan')                                                               # The plamet's distance from the host star\n",
    "     ):\n",
    "        data.drop(index, inplace=True)\n",
    "\n",
    "data.head()"
   ]
  },
  {
   "source": [
    "                                            ############ NOTE #############\n",
    "#\n",
    "#   In the 'CSV Info.txt' I tried to make it neat so that we know what columns we are working with and what columns we deleted.\n",
    "#   This is so that we don't lose our mind as we code the stuff later on\n",
    "#\n",
    "\n",
    "# Need to add columns for Earth Radius, Jupiter Radius, Solar Radius, Solar Mass\n",
    "\n",
    "\n",
    "\n",
    "# Also need to rename the columns for the above specific columns since we will most likely use those the most"
   ],
   "cell_type": "code",
   "metadata": {},
   "execution_count": null,
   "outputs": []
  }
 ],
 "metadata": {
  "kernelspec": {
   "display_name": "Python 3",
   "language": "python",
   "name": "python3"
  },
  "language_info": {
   "codemirror_mode": {
    "name": "ipython",
    "version": 3
   },
   "file_extension": ".py",
   "mimetype": "text/x-python",
   "name": "python",
   "nbconvert_exporter": "python",
   "pygments_lexer": "ipython3",
   "version": "3.7.3-final"
  }
 },
 "nbformat": 4,
 "nbformat_minor": 2
}