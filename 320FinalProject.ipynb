{
 "cells": [
  {
   "cell_type": "code",
   "execution_count": 9,
   "metadata": {},
   "outputs": [],
   "source": [
    "# All Imports\n",
    "import pandas as pd"
   ]
  },
  {
   "cell_type": "code",
   "execution_count": 10,
   "metadata": {},
   "outputs": [
    {
     "output_type": "execute_result",
     "data": {
      "text/plain": [
       "            pl_name hostname  default_flag  sy_snum  sy_pnum  discoverymethod  \\\n",
       "loc_rowid                                                                       \n",
       "1          11 Com b   11 Com             0        2        1  Radial Velocity   \n",
       "2          11 Com b   11 Com             1        2        1  Radial Velocity   \n",
       "3          11 UMi b   11 UMi             0        1        1  Radial Velocity   \n",
       "4          11 UMi b   11 UMi             0        1        1  Radial Velocity   \n",
       "5          11 UMi b   11 UMi             1        1        1  Radial Velocity   \n",
       "\n",
       "           disc_year                           disc_facility  \\\n",
       "loc_rowid                                                      \n",
       "1               2007                        Xinglong Station   \n",
       "2               2007                        Xinglong Station   \n",
       "3               2009  Thueringer Landessternwarte Tautenburg   \n",
       "4               2009  Thueringer Landessternwarte Tautenburg   \n",
       "5               2009  Thueringer Landessternwarte Tautenburg   \n",
       "\n",
       "                       soltype  pl_controv_flag  ... sy_vmagerr2  sy_kmag  \\\n",
       "loc_rowid                                        ...                        \n",
       "1          Published Confirmed                0  ...      -0.023    2.282   \n",
       "2          Published Confirmed                0  ...      -0.023    2.282   \n",
       "3          Published Confirmed                0  ...      -0.005    1.939   \n",
       "4          Published Confirmed                0  ...      -0.005    1.939   \n",
       "5          Published Confirmed                0  ...      -0.005    1.939   \n",
       "\n",
       "           sy_kmagerr1  sy_kmagerr2  sy_gaiamag  sy_gaiamagerr1  \\\n",
       "loc_rowid                                                         \n",
       "1                0.346       -0.346     4.44038        0.003848   \n",
       "2                0.346       -0.346     4.44038        0.003848   \n",
       "3                0.270       -0.270     4.56216        0.003903   \n",
       "4                0.270       -0.270     4.56216        0.003903   \n",
       "5                0.270       -0.270     4.56216        0.003903   \n",
       "\n",
       "           sy_gaiamagerr2            rowupdate  pl_pubdate  releasedate  \n",
       "loc_rowid                                                                \n",
       "1               -0.003848           2014-07-23     2011-08   2014-07-23  \n",
       "2               -0.003848           2014-05-14     2008-01   2014-05-14  \n",
       "3               -0.003903  2018-04-25 14:08:01     2009-10   2014-05-14  \n",
       "4               -0.003903  2018-04-25 14:08:01     2011-08   2014-07-23  \n",
       "5               -0.003903  2018-09-04 16:14:36     2017-03   2018-09-06  \n",
       "\n",
       "[5 rows x 91 columns]"
      ],
      "text/html": "<div>\n<style scoped>\n    .dataframe tbody tr th:only-of-type {\n        vertical-align: middle;\n    }\n\n    .dataframe tbody tr th {\n        vertical-align: top;\n    }\n\n    .dataframe thead th {\n        text-align: right;\n    }\n</style>\n<table border=\"1\" class=\"dataframe\">\n  <thead>\n    <tr style=\"text-align: right;\">\n      <th></th>\n      <th>pl_name</th>\n      <th>hostname</th>\n      <th>default_flag</th>\n      <th>sy_snum</th>\n      <th>sy_pnum</th>\n      <th>discoverymethod</th>\n      <th>disc_year</th>\n      <th>disc_facility</th>\n      <th>soltype</th>\n      <th>pl_controv_flag</th>\n      <th>...</th>\n      <th>sy_vmagerr2</th>\n      <th>sy_kmag</th>\n      <th>sy_kmagerr1</th>\n      <th>sy_kmagerr2</th>\n      <th>sy_gaiamag</th>\n      <th>sy_gaiamagerr1</th>\n      <th>sy_gaiamagerr2</th>\n      <th>rowupdate</th>\n      <th>pl_pubdate</th>\n      <th>releasedate</th>\n    </tr>\n    <tr>\n      <th>loc_rowid</th>\n      <th></th>\n      <th></th>\n      <th></th>\n      <th></th>\n      <th></th>\n      <th></th>\n      <th></th>\n      <th></th>\n      <th></th>\n      <th></th>\n      <th></th>\n      <th></th>\n      <th></th>\n      <th></th>\n      <th></th>\n      <th></th>\n      <th></th>\n      <th></th>\n      <th></th>\n      <th></th>\n      <th></th>\n    </tr>\n  </thead>\n  <tbody>\n    <tr>\n      <th>1</th>\n      <td>11 Com b</td>\n      <td>11 Com</td>\n      <td>0</td>\n      <td>2</td>\n      <td>1</td>\n      <td>Radial Velocity</td>\n      <td>2007</td>\n      <td>Xinglong Station</td>\n      <td>Published Confirmed</td>\n      <td>0</td>\n      <td>...</td>\n      <td>-0.023</td>\n      <td>2.282</td>\n      <td>0.346</td>\n      <td>-0.346</td>\n      <td>4.44038</td>\n      <td>0.003848</td>\n      <td>-0.003848</td>\n      <td>2014-07-23</td>\n      <td>2011-08</td>\n      <td>2014-07-23</td>\n    </tr>\n    <tr>\n      <th>2</th>\n      <td>11 Com b</td>\n      <td>11 Com</td>\n      <td>1</td>\n      <td>2</td>\n      <td>1</td>\n      <td>Radial Velocity</td>\n      <td>2007</td>\n      <td>Xinglong Station</td>\n      <td>Published Confirmed</td>\n      <td>0</td>\n      <td>...</td>\n      <td>-0.023</td>\n      <td>2.282</td>\n      <td>0.346</td>\n      <td>-0.346</td>\n      <td>4.44038</td>\n      <td>0.003848</td>\n      <td>-0.003848</td>\n      <td>2014-05-14</td>\n      <td>2008-01</td>\n      <td>2014-05-14</td>\n    </tr>\n    <tr>\n      <th>3</th>\n      <td>11 UMi b</td>\n      <td>11 UMi</td>\n      <td>0</td>\n      <td>1</td>\n      <td>1</td>\n      <td>Radial Velocity</td>\n      <td>2009</td>\n      <td>Thueringer Landessternwarte Tautenburg</td>\n      <td>Published Confirmed</td>\n      <td>0</td>\n      <td>...</td>\n      <td>-0.005</td>\n      <td>1.939</td>\n      <td>0.270</td>\n      <td>-0.270</td>\n      <td>4.56216</td>\n      <td>0.003903</td>\n      <td>-0.003903</td>\n      <td>2018-04-25 14:08:01</td>\n      <td>2009-10</td>\n      <td>2014-05-14</td>\n    </tr>\n    <tr>\n      <th>4</th>\n      <td>11 UMi b</td>\n      <td>11 UMi</td>\n      <td>0</td>\n      <td>1</td>\n      <td>1</td>\n      <td>Radial Velocity</td>\n      <td>2009</td>\n      <td>Thueringer Landessternwarte Tautenburg</td>\n      <td>Published Confirmed</td>\n      <td>0</td>\n      <td>...</td>\n      <td>-0.005</td>\n      <td>1.939</td>\n      <td>0.270</td>\n      <td>-0.270</td>\n      <td>4.56216</td>\n      <td>0.003903</td>\n      <td>-0.003903</td>\n      <td>2018-04-25 14:08:01</td>\n      <td>2011-08</td>\n      <td>2014-07-23</td>\n    </tr>\n    <tr>\n      <th>5</th>\n      <td>11 UMi b</td>\n      <td>11 UMi</td>\n      <td>1</td>\n      <td>1</td>\n      <td>1</td>\n      <td>Radial Velocity</td>\n      <td>2009</td>\n      <td>Thueringer Landessternwarte Tautenburg</td>\n      <td>Published Confirmed</td>\n      <td>0</td>\n      <td>...</td>\n      <td>-0.005</td>\n      <td>1.939</td>\n      <td>0.270</td>\n      <td>-0.270</td>\n      <td>4.56216</td>\n      <td>0.003903</td>\n      <td>-0.003903</td>\n      <td>2018-09-04 16:14:36</td>\n      <td>2017-03</td>\n      <td>2018-09-06</td>\n    </tr>\n  </tbody>\n</table>\n<p>5 rows × 91 columns</p>\n</div>"
     },
     "metadata": {},
     "execution_count": 10
    }
   ],
   "source": [
    "data = pd.read_csv('PS.csv')\n",
    "data.set_index('loc_rowid', inplace=True)\n",
    "print(data.head())"
   ]
  },
  {
   "cell_type": "code",
   "execution_count": null,
   "metadata": {},
   "outputs": [],
   "source": []
  }
 ],
 "metadata": {
  "kernelspec": {
   "display_name": "Python 3",
   "language": "python",
   "name": "python3"
  },
  "language_info": {
   "codemirror_mode": {
    "name": "ipython",
    "version": 3
   },
   "file_extension": ".py",
   "mimetype": "text/x-python",
   "name": "python",
   "nbconvert_exporter": "python",
   "pygments_lexer": "ipython3",
   "version": "3.7.3-final"
  }
 },
 "nbformat": 4,
 "nbformat_minor": 2
}