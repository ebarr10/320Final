{
 "cells": [
  {
   "source": [
    "# What is the possibility for life on Exoplanets currently observed and those in the future?\n",
    "\n",
    "## By: Ethan Barr and Tim Freerksen"
   ],
   "cell_type": "markdown",
   "metadata": {}
  },
  {
   "source": [
    "# Introduction"
   ],
   "cell_type": "markdown",
   "metadata": {}
  },
  {
   "source": [
    "Is there life in space? This question has been asked for years however no real signs of life have been observed yet despite the numerous exoplanets that we have discovered over the years. The objective of this project is to go through data regarding the exoplanets and their host stars."
   ],
   "cell_type": "markdown",
   "metadata": {}
  },
  {
   "cell_type": "code",
   "execution_count": 11,
   "metadata": {},
   "outputs": [],
   "source": [
    "# All Imports\n",
    "import pandas as pd"
   ]
  },
  {
   "cell_type": "code",
   "execution_count": 12,
   "metadata": {},
   "outputs": [
    {
     "output_type": "stream",
     "name": "stdout",
     "text": [
      "            pl_name hostname  default_flag  sy_snum  sy_pnum  discoverymethod  \\\nloc_rowid                                                                       \n1          11 Com b   11 Com             0        2        1  Radial Velocity   \n2          11 Com b   11 Com             1        2        1  Radial Velocity   \n3          11 UMi b   11 UMi             0        1        1  Radial Velocity   \n4          11 UMi b   11 UMi             0        1        1  Radial Velocity   \n5          11 UMi b   11 UMi             1        1        1  Radial Velocity   \n\n           disc_year                           disc_facility  \\\nloc_rowid                                                      \n1               2007                        Xinglong Station   \n2               2007                        Xinglong Station   \n3               2009  Thueringer Landessternwarte Tautenburg   \n4               2009  Thueringer Landessternwarte Tautenburg   \n5               2009  Thueringer Landessternwarte Tautenburg   \n\n                       soltype  pl_controv_flag  ... sy_vmagerr2  sy_kmag  \\\nloc_rowid                                        ...                        \n1          Published Confirmed                0  ...      -0.023    2.282   \n2          Published Confirmed                0  ...      -0.023    2.282   \n3          Published Confirmed                0  ...      -0.005    1.939   \n4          Published Confirmed                0  ...      -0.005    1.939   \n5          Published Confirmed                0  ...      -0.005    1.939   \n\n           sy_kmagerr1  sy_kmagerr2  sy_gaiamag  sy_gaiamagerr1  \\\nloc_rowid                                                         \n1                0.346       -0.346     4.44038        0.003848   \n2                0.346       -0.346     4.44038        0.003848   \n3                0.270       -0.270     4.56216        0.003903   \n4                0.270       -0.270     4.56216        0.003903   \n5                0.270       -0.270     4.56216        0.003903   \n\n           sy_gaiamagerr2            rowupdate  pl_pubdate  releasedate  \nloc_rowid                                                                \n1               -0.003848           2014-07-23     2011-08   2014-07-23  \n2               -0.003848           2014-05-14     2008-01   2014-05-14  \n3               -0.003903  2018-04-25 14:08:01     2009-10   2014-05-14  \n4               -0.003903  2018-04-25 14:08:01     2011-08   2014-07-23  \n5               -0.003903  2018-09-04 16:14:36     2017-03   2018-09-06  \n\n[5 rows x 91 columns]\n"
     ]
    }
   ],
   "source": [
    "data = pd.read_csv('PS.csv')\n",
    "data.set_index('loc_rowid', inplace=True)\n",
    "print(data.head())"
   ]
  },
  {
   "cell_type": "code",
   "execution_count": null,
   "metadata": {},
   "outputs": [],
   "source": []
  }
 ],
 "metadata": {
  "kernelspec": {
   "display_name": "Python 3",
   "language": "python",
   "name": "python3"
  },
  "language_info": {
   "codemirror_mode": {
    "name": "ipython",
    "version": 3
   },
   "file_extension": ".py",
   "mimetype": "text/x-python",
   "name": "python",
   "nbconvert_exporter": "python",
   "pygments_lexer": "ipython3",
   "version": "3.7.3-final"
  }
 },
 "nbformat": 4,
 "nbformat_minor": 2
}