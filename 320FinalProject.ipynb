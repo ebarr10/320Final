{
 "cells": [
  {
   "source": [
    "# <ins>Analysis on the Potential of Life on Exoplanets</ins>\n",
    "\n",
    "## By: Ethan Barr and Tim Freerksen"
   ],
   "cell_type": "markdown",
   "metadata": {}
  },
  {
   "source": [
    "## <ins>Introduction</ins>\n",
    "\n",
    "Is there life in space? This has been a question for many years with no real evidence to back up the claim that there is. Our goal in this project is to take the exoplanets already discovered and see what the probability of life on these planets real is and hope that a good amount of the exoplanets that we discovered so far fit well into the criteria of haveing the ability to hold life.\n",
    "\n",
    "Throughout this tutorial, we will try to see how many of the exoplanets we have discovered so far the right conditions in order to harbor life and then we will see what the probability is that a future exoplanet will end up holding life."
   ],
   "cell_type": "markdown",
   "metadata": {}
  },
  {
   "source": [
    "### <ins>Required Tools</ins>\n",
    "\n",
    "The following libraries used for the project:\n",
    "\n",
    "1. pandas\n",
    "2. \n",
    "\n",
    "If having issues with python 3+ or panda, we recommend referring to these following websites for more information:\n",
    "\n",
    "1. https://docs.python.org/3/\n",
    "2. https://pandas.pydata.org/pandas-docs/stable/install.html"
   ],
   "cell_type": "markdown",
   "metadata": {}
  },
  {
   "cell_type": "code",
   "execution_count": 11,
   "metadata": {},
   "outputs": [],
   "source": [
    "# All Imports\n",
    "import pandas as pd"
   ]
  },
  {
   "cell_type": "code",
   "execution_count": 12,
   "metadata": {},
   "outputs": [
    {
     "output_type": "stream",
     "name": "stdout",
     "text": [
      "            pl_name hostname  default_flag  sy_snum  sy_pnum  discoverymethod  \\\nloc_rowid                                                                       \n1          11 Com b   11 Com             0        2        1  Radial Velocity   \n2          11 Com b   11 Com             1        2        1  Radial Velocity   \n3          11 UMi b   11 UMi             0        1        1  Radial Velocity   \n4          11 UMi b   11 UMi             0        1        1  Radial Velocity   \n5          11 UMi b   11 UMi             1        1        1  Radial Velocity   \n\n           disc_year                           disc_facility  \\\nloc_rowid                                                      \n1               2007                        Xinglong Station   \n2               2007                        Xinglong Station   \n3               2009  Thueringer Landessternwarte Tautenburg   \n4               2009  Thueringer Landessternwarte Tautenburg   \n5               2009  Thueringer Landessternwarte Tautenburg   \n\n                       soltype  pl_controv_flag  ... sy_vmagerr2  sy_kmag  \\\nloc_rowid                                        ...                        \n1          Published Confirmed                0  ...      -0.023    2.282   \n2          Published Confirmed                0  ...      -0.023    2.282   \n3          Published Confirmed                0  ...      -0.005    1.939   \n4          Published Confirmed                0  ...      -0.005    1.939   \n5          Published Confirmed                0  ...      -0.005    1.939   \n\n           sy_kmagerr1  sy_kmagerr2  sy_gaiamag  sy_gaiamagerr1  \\\nloc_rowid                                                         \n1                0.346       -0.346     4.44038        0.003848   \n2                0.346       -0.346     4.44038        0.003848   \n3                0.270       -0.270     4.56216        0.003903   \n4                0.270       -0.270     4.56216        0.003903   \n5                0.270       -0.270     4.56216        0.003903   \n\n           sy_gaiamagerr2            rowupdate  pl_pubdate  releasedate  \nloc_rowid                                                                \n1               -0.003848           2014-07-23     2011-08   2014-07-23  \n2               -0.003848           2014-05-14     2008-01   2014-05-14  \n3               -0.003903  2018-04-25 14:08:01     2009-10   2014-05-14  \n4               -0.003903  2018-04-25 14:08:01     2011-08   2014-07-23  \n5               -0.003903  2018-09-04 16:14:36     2017-03   2018-09-06  \n\n[5 rows x 91 columns]\n"
     ]
    }
   ],
   "source": [
    "data = pd.read_csv('PS.csv')\n",
    "data.set_index('loc_rowid', inplace=True)\n",
    "print(data.head())"
   ]
  },
  {
   "cell_type": "code",
   "execution_count": null,
   "metadata": {},
   "outputs": [],
   "source": []
  }
 ],
 "metadata": {
  "kernelspec": {
   "display_name": "Python 3",
   "language": "python",
   "name": "python3"
  },
  "language_info": {
   "codemirror_mode": {
    "name": "ipython",
    "version": 3
   },
   "file_extension": ".py",
   "mimetype": "text/x-python",
   "name": "python",
   "nbconvert_exporter": "python",
   "pygments_lexer": "ipython3",
   "version": "3.7.3-final"
  }
 },
 "nbformat": 4,
 "nbformat_minor": 2
}